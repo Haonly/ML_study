{
 "cells": [
  {
   "cell_type": "markdown",
   "metadata": {},
   "source": [
    "# 2-1. Load CSV data"
   ]
  },
  {
   "cell_type": "markdown",
   "metadata": {},
   "source": [
    "본 실습에 사용된 데이터는 타이타닉 승객 목록에서 가져옵니다.\n",
    "\n",
    "이 모델은 나이, 성별, 승차권 등급, 그 사람이 혼자 여행하는지 여부 같은 특징에 따라 승객이 생존할 가능성을 예측합니다."
   ]
  },
  {
   "cell_type": "markdown",
   "metadata": {},
   "source": [
    "***\n",
    "## 1. Setup"
   ]
  },
  {
   "cell_type": "code",
   "execution_count": 65,
   "metadata": {},
   "outputs": [],
   "source": [
    "from __future__ import absolute_import, division, print_function, unicode_literals\n",
    "import functools\n",
    "\n",
    "import numpy as np\n",
    "import tensorflow as tf\n",
    "\n",
    "import pprint"
   ]
  },
  {
   "cell_type": "code",
   "execution_count": 2,
   "metadata": {},
   "outputs": [
    {
     "name": "stdout",
     "output_type": "stream",
     "text": [
      "Downloading data from https://storage.googleapis.com/tf-datasets/titanic/train.csv\n",
      "32768/30874 [===============================] - 0s 2us/step\n",
      "Downloading data from https://storage.googleapis.com/tf-datasets/titanic/eval.csv\n",
      "16384/13049 [=====================================] - 0s 0us/step\n"
     ]
    }
   ],
   "source": [
    "TRAIN_DATA_URL = \"https://storage.googleapis.com/tf-datasets/titanic/train.csv\"\n",
    "TEST_DATA_URL = \"https://storage.googleapis.com/tf-datasets/titanic/eval.csv\"\n",
    "\n",
    "train_file_path = tf.keras.utils.get_file(\"train.csv\", TRAIN_DATA_URL)\n",
    "test_file_path = tf.keras.utils.get_file(\"eval.csv\", TEST_DATA_URL)"
   ]
  },
  {
   "cell_type": "code",
   "execution_count": 3,
   "metadata": {},
   "outputs": [],
   "source": [
    "# Make numpy values easier to read.\n",
    "np.set_printoptions(precision=3, suppress=True)"
   ]
  },
  {
   "cell_type": "markdown",
   "metadata": {},
   "source": [
    "***set_printoptions*** : 출력 옵션 변경\n",
    "\n",
    "precision : 소수점 몇 자리까지 출력하게 할 것이냐\n",
    "\n",
    "suppress : e-04와 같은 scientific notation을 제거할 것이냐"
   ]
  },
  {
   "cell_type": "markdown",
   "metadata": {},
   "source": [
    "***\n",
    "## 2. Load data"
   ]
  },
  {
   "cell_type": "code",
   "execution_count": 15,
   "metadata": {},
   "outputs": [
    {
     "name": "stdout",
     "output_type": "stream",
     "text": [
      "survived,sex,age,n_siblings_spouses,parch,fare,class,deck,embark_town,alone\n",
      "0,male,22.0,1,0,7.25,Third,unknown,Southampton,n\n",
      "1,female,38.0,1,0,71.2833,First,C,Cherbourg,n\n",
      "1,female,26.0,0,0,7.925,Third,unknown,Southampton,y\n",
      "1,female,35.0,1,0,53.1,First,C,Southampton,n\n",
      "0,male,28.0,0,0,8.4583,Third,unknown,Queenstown,y\n",
      "0,male,2.0,3,1,21.075,Third,unknown,Southampton,n\n",
      "1,female,27.0,0,2,11.1333,Third,unknown,Southampton,n\n",
      "1,female,14.0,1,0,30.0708,Second,unknown,Cherbourg,n\n",
      "1,female,4.0,1,1,16.7,Third,G,Southampton,n\n"
     ]
    }
   ],
   "source": [
    "!head {train_file_path}"
   ]
  },
  {
   "cell_type": "markdown",
   "metadata": {},
   "source": [
    "명시적으로 식별해야 하는 유일한 컬럼은, 모델이 예측하려는 값을 가진 컬럼입니다."
   ]
  },
  {
   "cell_type": "code",
   "execution_count": 52,
   "metadata": {},
   "outputs": [],
   "source": [
    "LABEL_COLUMN = 'survived'\n",
    "LABELS = [0, 1]"
   ]
  },
  {
   "cell_type": "markdown",
   "metadata": {},
   "source": [
    "이제 파일에서 CSV 데이터를 읽고 dataset을 생성합니다.\n",
    "\n",
    "https://www.tensorflow.org/api_docs/python/tf/data/experimental/make_csv_dataset"
   ]
  },
  {
   "cell_type": "code",
   "execution_count": 17,
   "metadata": {},
   "outputs": [
    {
     "name": "stdout",
     "output_type": "stream",
     "text": [
      "WARNING:tensorflow:From /Users/user/anaconda/anaconda3/lib/python3.7/site-packages/tensorflow_core/python/data/experimental/ops/readers.py:521: parallel_interleave (from tensorflow.python.data.experimental.ops.interleave_ops) is deprecated and will be removed in a future version.\n",
      "Instructions for updating:\n",
      "Use `tf.data.Dataset.interleave(map_func, cycle_length, block_length, num_parallel_calls=tf.data.experimental.AUTOTUNE)` instead. If sloppy execution is desired, use `tf.data.Options.experimental_determinstic`.\n"
     ]
    }
   ],
   "source": [
    "def get_dataset(file_path, **kwargs):\n",
    "    dataset = tf.data.experimental.make_csv_dataset(\n",
    "        file_path,\n",
    "        batch_size=5, # Artificially small to make examples easier to show.\n",
    "        label_name=LABEL_COLUMN,\n",
    "        na_value=\"?\",\n",
    "        num_epochs=1,\n",
    "        ignore_errors=True, \n",
    "        **kwargs)\n",
    "    return dataset\n",
    "\n",
    "raw_train_data = get_dataset(train_file_path)\n",
    "raw_test_data = get_dataset(test_file_path)"
   ]
  },
  {
   "cell_type": "code",
   "execution_count": 18,
   "metadata": {},
   "outputs": [],
   "source": [
    "def show_batch(dataset):\n",
    "    for batch, label in dataset.take(1):\n",
    "        for key, value in batch.items():\n",
    "            print(\"{:20s}: {}\".format(key,value.numpy()))"
   ]
  },
  {
   "cell_type": "markdown",
   "metadata": {},
   "source": [
    "***\n",
    "\n",
    "dataset의 각 항목은 일괄 처리(batch)되며, 여러 가지 examples, 여러 labels로 표시됩니다.\n",
    "\n",
    "예제의 데이터는 column-based tensors(row-based tensors가 아닌)로 구성되며, 각 텐서에는 배치 크기(이 경우 5개)만큼의 요소가 있습니다."
   ]
  },
  {
   "cell_type": "code",
   "execution_count": 19,
   "metadata": {},
   "outputs": [
    {
     "name": "stdout",
     "output_type": "stream",
     "text": [
      "sex                 : [b'male' b'female' b'male' b'female' b'male']\n",
      "age                 : [28. 28. 20. 28. 70.]\n",
      "n_siblings_spouses  : [0 0 0 0 1]\n",
      "parch               : [0 0 0 0 1]\n",
      "fare                : [ 7.75   7.879  9.225  7.733 71.   ]\n",
      "class               : [b'Third' b'Third' b'Third' b'Third' b'First']\n",
      "deck                : [b'unknown' b'unknown' b'unknown' b'unknown' b'B']\n",
      "embark_town         : [b'Queenstown' b'Queenstown' b'Southampton' b'Queenstown' b'Southampton']\n",
      "alone               : [b'y' b'y' b'y' b'y' b'n']\n"
     ]
    }
   ],
   "source": [
    "show_batch(raw_train_data)"
   ]
  },
  {
   "cell_type": "markdown",
   "metadata": {},
   "source": [
    "***\n",
    "\n",
    "보시다시피 CSV에 있는 열은 이름이 지정되어 있습니다.\n",
    "\n",
    "dataset constructor가 이러한 이름을 자동으로 선택합니다.\n",
    "\n",
    "작업 중인 파일의 첫 번째 줄에 열 이름이 없는 경우, ```make_csv_dataset``` 함수의 ```column_names``` 인자에 ```list of strings```으로 전달합니다."
   ]
  },
  {
   "cell_type": "code",
   "execution_count": 20,
   "metadata": {},
   "outputs": [
    {
     "name": "stdout",
     "output_type": "stream",
     "text": [
      "sex                 : [b'male' b'female' b'male' b'male' b'female']\n",
      "age                 : [26.  5. 28. 47. 11.]\n",
      "n_siblings_spouses  : [0 0 0 0 4]\n",
      "parch               : [0 0 0 0 2]\n",
      "fare                : [18.788 12.475 13.     7.25  31.275]\n",
      "class               : [b'Third' b'Third' b'Second' b'Third' b'Third']\n",
      "deck                : [b'unknown' b'unknown' b'unknown' b'unknown' b'unknown']\n",
      "embark_town         : [b'Cherbourg' b'Southampton' b'Southampton' b'Southampton' b'Southampton']\n",
      "alone               : [b'y' b'y' b'y' b'y' b'n']\n"
     ]
    }
   ],
   "source": [
    "CSV_COLUMNS = ['survived', 'sex', 'age', 'n_siblings_spouses', 'parch', 'fare', 'class', 'deck', 'embark_town', 'alone']\n",
    "\n",
    "temp_dataset = get_dataset(train_file_path, column_names=CSV_COLUMNS)\n",
    "\n",
    "show_batch(temp_dataset)"
   ]
  },
  {
   "cell_type": "markdown",
   "metadata": {},
   "source": [
    "***\n",
    "\n",
    "이 예에서는 사용 가능한 모든 열을 사용합니다.\n",
    "\n",
    "데이터 세트에서 일부 열을 생략해야 하는 경우 사용하려는 열의 목록을 작성하여 생성자의 ```select_columns``` 인수(optional)에 전달합니다."
   ]
  },
  {
   "cell_type": "code",
   "execution_count": 21,
   "metadata": {},
   "outputs": [
    {
     "name": "stdout",
     "output_type": "stream",
     "text": [
      "age                 : [28.  4. 23. 31. 24.]\n",
      "n_siblings_spouses  : [0 0 0 0 1]\n",
      "class               : [b'Third' b'Third' b'Third' b'Third' b'Second']\n",
      "deck                : [b'unknown' b'unknown' b'unknown' b'unknown' b'unknown']\n",
      "alone               : [b'y' b'n' b'y' b'y' b'n']\n"
     ]
    }
   ],
   "source": [
    "SELECT_COLUMNS = ['survived', 'age', 'n_siblings_spouses', 'class', 'deck', 'alone']\n",
    "\n",
    "temp_dataset = get_dataset(train_file_path, select_columns=SELECT_COLUMNS)\n",
    "\n",
    "show_batch(temp_dataset)"
   ]
  },
  {
   "cell_type": "markdown",
   "metadata": {},
   "source": [
    "***\n",
    "\n",
    "## 3. Data preprocessing\n",
    "\n",
    "CSV 파일에는 다양한 데이터 유형이 포함될 수 있습니다.\n",
    "\n",
    "일반적으로 데이터를 모델에 공급하기 전에 이러한 혼합 유형(mixed types)에서 고정 길이 벡터(a fixed length vector)로 변환하길 원합니다.\n",
    "\n",
    "TensorFlow에는 일반적인 입력 변환을 설명하는 내장 시스템이 있습니다. (```tf.feature_column```)\n",
    "\n",
    "원하는 도구(예: ```nltk``` 또는 ```sklearn```)를 사용하여 데이터를 미리 처리하고 처리된 출력을 TensorFlow로 전달할 수도 있습니다.\n",
    "\n",
    "***\n",
    "\n",
    "모델 내에서 전처리를 수행할 때의 주된 이점은, 모델을 내보낼 때 전처리를 포함한다는 것입니다.\n",
    "\n",
    "이렇게 하면 원시 데이터(raw data)를 모델에 직접 전달할 수 있습니다.\n",
    "\n",
    "***\n",
    "\n",
    "### 3.1 Continuous data (연속형 데이터)\n",
    "\n",
    "데이터가 이미 적절한 숫자 형식인 경우, 데이터를 모델에 전달하기 전에 벡터에 저장할 수 있습니다."
   ]
  },
  {
   "cell_type": "code",
   "execution_count": 22,
   "metadata": {},
   "outputs": [
    {
     "name": "stdout",
     "output_type": "stream",
     "text": [
      "age                 : [15. 26. 46. 36. 28.]\n",
      "n_siblings_spouses  : [1. 0. 0. 0. 0.]\n",
      "parch               : [0. 0. 0. 0. 0.]\n",
      "fare                : [14.454 56.496 79.2   26.388  7.75 ]\n"
     ]
    }
   ],
   "source": [
    "SELECT_COLUMNS = ['survived', 'age', 'n_siblings_spouses', 'parch', 'fare']\n",
    "DEFAULTS = [0, 0.0, 0.0, 0.0, 0.0]\n",
    "temp_dataset = get_dataset(train_file_path, \n",
    "                           select_columns=SELECT_COLUMNS,\n",
    "                           column_defaults = DEFAULTS)\n",
    "\n",
    "show_batch(temp_dataset)"
   ]
  },
  {
   "cell_type": "code",
   "execution_count": 23,
   "metadata": {},
   "outputs": [],
   "source": [
    "example_batch, labels_batch = next(iter(temp_dataset)) "
   ]
  },
  {
   "cell_type": "markdown",
   "metadata": {},
   "source": [
    "***\n",
    "\n",
    "다음은 모든 열을 묶는 간단한 함수입니다.\n",
    "\n",
    "https://www.tensorflow.org/api_docs/python/tf/stack"
   ]
  },
  {
   "cell_type": "code",
   "execution_count": 95,
   "metadata": {},
   "outputs": [],
   "source": [
    "def pack(features, label):\n",
    "    return tf.stack(list(features.values()), axis=-1), label"
   ]
  },
  {
   "cell_type": "markdown",
   "metadata": {},
   "source": [
    "데이터 세트의 각 요소에 다음을 적용합니다."
   ]
  },
  {
   "cell_type": "code",
   "execution_count": 96,
   "metadata": {},
   "outputs": [
    {
     "name": "stdout",
     "output_type": "stream",
     "text": [
      "[[ 47.      0.      0.      9.   ]\n",
      " [ 28.      1.      0.    146.521]\n",
      " [ 28.      2.      0.     21.679]\n",
      " [ 28.      1.      0.    133.65 ]\n",
      " [ 40.5     0.      2.     14.5  ]]\n",
      "\n",
      "[0 1 0 1 0]\n"
     ]
    }
   ],
   "source": [
    "packed_dataset = temp_dataset.map(pack)\n",
    "\n",
    "for features, labels in packed_dataset.take(1):\n",
    "    print(features.numpy())\n",
    "    print()\n",
    "    print(labels.numpy())"
   ]
  },
  {
   "cell_type": "markdown",
   "metadata": {},
   "source": [
    "***\n",
    "\n",
    "\n",
    "데이터 유형이 혼합된 경우(mixed datatypes) 이러한 단순 숫자 필드를 분리할 수 있습니다.\n",
    "\n",
    "```tf.feature_column``` API는 이러한 기능을 처리할 수 있지만, 이는 약간의 오버헤드를 유발하므로 꼭 필요하지 않은 한 피해야 합니다.\n",
    "\n",
    "혼합 데이터 집합(mixed dataset)으로 다시 전환합니다."
   ]
  },
  {
   "cell_type": "code",
   "execution_count": 27,
   "metadata": {},
   "outputs": [
    {
     "name": "stdout",
     "output_type": "stream",
     "text": [
      "sex                 : [b'male' b'female' b'female' b'male' b'female']\n",
      "age                 : [35. 28. 35. 28. 60.]\n",
      "n_siblings_spouses  : [0 1 0 1 1]\n",
      "parch               : [0 0 0 0 0]\n",
      "fare                : [  7.896  14.454 135.633  82.171  75.25 ]\n",
      "class               : [b'Third' b'Third' b'First' b'First' b'First']\n",
      "deck                : [b'unknown' b'unknown' b'C' b'unknown' b'D']\n",
      "embark_town         : [b'Cherbourg' b'Cherbourg' b'Southampton' b'Cherbourg' b'Cherbourg']\n",
      "alone               : [b'y' b'n' b'y' b'n' b'n']\n"
     ]
    }
   ],
   "source": [
    "show_batch(raw_train_data)"
   ]
  },
  {
   "cell_type": "code",
   "execution_count": 28,
   "metadata": {},
   "outputs": [],
   "source": [
    "example_batch, labels_batch = next(iter(temp_dataset)) "
   ]
  },
  {
   "cell_type": "markdown",
   "metadata": {},
   "source": [
    "list of numeric features을 선택하여 단일 열에 저장하는 보다 일반적인 프리프로세서를 정의합니다"
   ]
  },
  {
   "cell_type": "code",
   "execution_count": 29,
   "metadata": {},
   "outputs": [],
   "source": [
    "class PackNumericFeatures(object):\n",
    "    def __init__(self, names):\n",
    "        self.names = names\n",
    "\n",
    "    def __call__(self, features, labels):\n",
    "        numeric_features = [features.pop(name) for name in self.names]\n",
    "        numeric_features = [tf.cast(feat, tf.float32) for feat in numeric_features]\n",
    "        numeric_features = tf.stack(numeric_features, axis=-1)\n",
    "        features['numeric'] = numeric_features\n",
    "\n",
    "    return features, labels"
   ]
  },
  {
   "cell_type": "code",
   "execution_count": 30,
   "metadata": {},
   "outputs": [],
   "source": [
    "NUMERIC_FEATURES = ['age','n_siblings_spouses','parch', 'fare']\n",
    "\n",
    "packed_train_data = raw_train_data.map(\n",
    "    PackNumericFeatures(NUMERIC_FEATURES))\n",
    "\n",
    "packed_test_data = raw_test_data.map(\n",
    "    PackNumericFeatures(NUMERIC_FEATURES))"
   ]
  },
  {
   "cell_type": "code",
   "execution_count": 31,
   "metadata": {},
   "outputs": [
    {
     "name": "stdout",
     "output_type": "stream",
     "text": [
      "sex                 : [b'male' b'male' b'female' b'male' b'female']\n",
      "class               : [b'First' b'Third' b'Second' b'First' b'Third']\n",
      "deck                : [b'B' b'unknown' b'unknown' b'C' b'unknown']\n",
      "embark_town         : [b'Cherbourg' b'Southampton' b'Southampton' b'Southampton' b'Queenstown']\n",
      "alone               : [b'y' b'y' b'y' b'n' b'y']\n",
      "numeric             : [[ 32.      0.      0.     30.5  ]\n",
      " [ 26.      0.      0.      7.887]\n",
      " [ 21.      0.      0.     10.5  ]\n",
      " [ 38.      0.      1.    153.462]\n",
      " [ 16.      0.      0.      7.75 ]]\n"
     ]
    }
   ],
   "source": [
    "show_batch(packed_train_data)"
   ]
  },
  {
   "cell_type": "code",
   "execution_count": 32,
   "metadata": {},
   "outputs": [],
   "source": [
    "example_batch, labels_batch = next(iter(packed_train_data)) "
   ]
  },
  {
   "cell_type": "code",
   "execution_count": 54,
   "metadata": {},
   "outputs": [
    {
     "name": "stdout",
     "output_type": "stream",
     "text": [
      "OrderedDict([('sex', <tf.Tensor: id=551, shape=(5,), dtype=string, numpy=array([b'male', b'male', b'male', b'male', b'male'], dtype=object)>), ('class', <tf.Tensor: id=547, shape=(5,), dtype=string, numpy=array([b'Third', b'Second', b'Third', b'Third', b'First'], dtype=object)>), ('deck', <tf.Tensor: id=548, shape=(5,), dtype=string, numpy=\n",
      "array([b'unknown', b'unknown', b'unknown', b'unknown', b'unknown'],\n",
      "      dtype=object)>), ('embark_town', <tf.Tensor: id=549, shape=(5,), dtype=string, numpy=\n",
      "array([b'Southampton', b'Southampton', b'Queenstown', b'Southampton',\n",
      "       b'Southampton'], dtype=object)>), ('alone', <tf.Tensor: id=546, shape=(5,), dtype=string, numpy=array([b'y', b'y', b'y', b'n', b'y'], dtype=object)>), ('numeric', <tf.Tensor: id=550, shape=(5, 4), dtype=float32, numpy=\n",
      "array([[28.   ,  0.   ,  0.   ,  7.775],\n",
      "       [27.   ,  0.   ,  0.   , 26.   ],\n",
      "       [28.   ,  0.   ,  0.   ,  7.729],\n",
      "       [28.   ,  1.   ,  2.   , 23.45 ],\n",
      "       [45.   ,  0.   ,  0.   , 35.5  ]], dtype=float32)>)])\n"
     ]
    }
   ],
   "source": [
    "print(example_batch)"
   ]
  },
  {
   "cell_type": "code",
   "execution_count": 55,
   "metadata": {},
   "outputs": [
    {
     "name": "stdout",
     "output_type": "stream",
     "text": [
      "tf.Tensor([1 0 0 0 0], shape=(5,), dtype=int32)\n"
     ]
    }
   ],
   "source": [
    "print(labels_batch)"
   ]
  },
  {
   "cell_type": "markdown",
   "metadata": {},
   "source": [
    "***\n",
    "\n",
    "### Data Normalization\n",
    "\n",
    "연속 데이터는 항상 정규화되어야 합니다."
   ]
  },
  {
   "cell_type": "code",
   "execution_count": 33,
   "metadata": {},
   "outputs": [
    {
     "data": {
      "text/html": [
       "<div>\n",
       "<style scoped>\n",
       "    .dataframe tbody tr th:only-of-type {\n",
       "        vertical-align: middle;\n",
       "    }\n",
       "\n",
       "    .dataframe tbody tr th {\n",
       "        vertical-align: top;\n",
       "    }\n",
       "\n",
       "    .dataframe thead th {\n",
       "        text-align: right;\n",
       "    }\n",
       "</style>\n",
       "<table border=\"1\" class=\"dataframe\">\n",
       "  <thead>\n",
       "    <tr style=\"text-align: right;\">\n",
       "      <th></th>\n",
       "      <th>age</th>\n",
       "      <th>n_siblings_spouses</th>\n",
       "      <th>parch</th>\n",
       "      <th>fare</th>\n",
       "    </tr>\n",
       "  </thead>\n",
       "  <tbody>\n",
       "    <tr>\n",
       "      <td>count</td>\n",
       "      <td>627.000000</td>\n",
       "      <td>627.000000</td>\n",
       "      <td>627.000000</td>\n",
       "      <td>627.000000</td>\n",
       "    </tr>\n",
       "    <tr>\n",
       "      <td>mean</td>\n",
       "      <td>29.631308</td>\n",
       "      <td>0.545455</td>\n",
       "      <td>0.379585</td>\n",
       "      <td>34.385399</td>\n",
       "    </tr>\n",
       "    <tr>\n",
       "      <td>std</td>\n",
       "      <td>12.511818</td>\n",
       "      <td>1.151090</td>\n",
       "      <td>0.792999</td>\n",
       "      <td>54.597730</td>\n",
       "    </tr>\n",
       "    <tr>\n",
       "      <td>min</td>\n",
       "      <td>0.750000</td>\n",
       "      <td>0.000000</td>\n",
       "      <td>0.000000</td>\n",
       "      <td>0.000000</td>\n",
       "    </tr>\n",
       "    <tr>\n",
       "      <td>25%</td>\n",
       "      <td>23.000000</td>\n",
       "      <td>0.000000</td>\n",
       "      <td>0.000000</td>\n",
       "      <td>7.895800</td>\n",
       "    </tr>\n",
       "    <tr>\n",
       "      <td>50%</td>\n",
       "      <td>28.000000</td>\n",
       "      <td>0.000000</td>\n",
       "      <td>0.000000</td>\n",
       "      <td>15.045800</td>\n",
       "    </tr>\n",
       "    <tr>\n",
       "      <td>75%</td>\n",
       "      <td>35.000000</td>\n",
       "      <td>1.000000</td>\n",
       "      <td>0.000000</td>\n",
       "      <td>31.387500</td>\n",
       "    </tr>\n",
       "    <tr>\n",
       "      <td>max</td>\n",
       "      <td>80.000000</td>\n",
       "      <td>8.000000</td>\n",
       "      <td>5.000000</td>\n",
       "      <td>512.329200</td>\n",
       "    </tr>\n",
       "  </tbody>\n",
       "</table>\n",
       "</div>"
      ],
      "text/plain": [
       "              age  n_siblings_spouses       parch        fare\n",
       "count  627.000000          627.000000  627.000000  627.000000\n",
       "mean    29.631308            0.545455    0.379585   34.385399\n",
       "std     12.511818            1.151090    0.792999   54.597730\n",
       "min      0.750000            0.000000    0.000000    0.000000\n",
       "25%     23.000000            0.000000    0.000000    7.895800\n",
       "50%     28.000000            0.000000    0.000000   15.045800\n",
       "75%     35.000000            1.000000    0.000000   31.387500\n",
       "max     80.000000            8.000000    5.000000  512.329200"
      ]
     },
     "execution_count": 33,
     "metadata": {},
     "output_type": "execute_result"
    }
   ],
   "source": [
    "import pandas as pd\n",
    "desc = pd.read_csv(train_file_path)[NUMERIC_FEATURES].describe()\n",
    "desc"
   ]
  },
  {
   "cell_type": "code",
   "execution_count": 34,
   "metadata": {},
   "outputs": [],
   "source": [
    "MEAN = np.array(desc.T['mean'])\n",
    "STD = np.array(desc.T['std'])"
   ]
  },
  {
   "cell_type": "code",
   "execution_count": 35,
   "metadata": {},
   "outputs": [],
   "source": [
    "def normalize_numeric_data(data, mean, std):\n",
    "    # Center the data\n",
    "    return (data-mean)/std"
   ]
  },
  {
   "cell_type": "markdown",
   "metadata": {},
   "source": [
    "***\n",
    "\n",
    "이제 numeric column을 생성합니다.\n",
    "\n",
    "```tf.feature_columns.numeric_column``` API는 각 배치에서 실행될 ```normalizer_fn``` 인자를 받습니다.\n",
    "\n",
    "\n",
    "```functools.partial```을 사용하여 MEAN과 STD를 ```normalizer_fn```에 바인딩합니다."
   ]
  },
  {
   "cell_type": "code",
   "execution_count": 53,
   "metadata": {},
   "outputs": [
    {
     "data": {
      "text/plain": [
       "NumericColumn(key='numeric', shape=(4,), default_value=None, dtype=tf.float32, normalizer_fn=functools.partial(<function normalize_numeric_data at 0x64bd9bcb0>, mean=array([29.631,  0.545,  0.38 , 34.385]), std=array([12.512,  1.151,  0.793, 54.598])))"
      ]
     },
     "execution_count": 53,
     "metadata": {},
     "output_type": "execute_result"
    }
   ],
   "source": [
    "# See what you just created.\n",
    "normalizer = functools.partial(normalize_numeric_data, mean=MEAN, std=STD)\n",
    "\n",
    "numeric_column = tf.feature_column.numeric_column('numeric', normalizer_fn=normalizer, shape=[len(NUMERIC_FEATURES)])\n",
    "numeric_columns = [numeric_column]\n",
    "numeric_column"
   ]
  },
  {
   "cell_type": "markdown",
   "metadata": {},
   "source": [
    "***\n",
    "\n",
    "\n",
    "model을 train할 때, 다음 feature column을 포함하여 이 numeric data 블록을 선택하고 가운데에 배치합니다.\n",
    "\n",
    "(When you train the model, include this feature column to select and center this block of numeric data:)"
   ]
  },
  {
   "cell_type": "code",
   "execution_count": 37,
   "metadata": {},
   "outputs": [
    {
     "data": {
      "text/plain": [
       "<tf.Tensor: id=550, shape=(5, 4), dtype=float32, numpy=\n",
       "array([[28.   ,  0.   ,  0.   ,  7.775],\n",
       "       [27.   ,  0.   ,  0.   , 26.   ],\n",
       "       [28.   ,  0.   ,  0.   ,  7.729],\n",
       "       [28.   ,  1.   ,  2.   , 23.45 ],\n",
       "       [45.   ,  0.   ,  0.   , 35.5  ]], dtype=float32)>"
      ]
     },
     "execution_count": 37,
     "metadata": {},
     "output_type": "execute_result"
    }
   ],
   "source": [
    "example_batch['numeric']"
   ]
  },
  {
   "cell_type": "code",
   "execution_count": 38,
   "metadata": {},
   "outputs": [
    {
     "data": {
      "text/plain": [
       "array([[-0.13 , -0.474, -0.479, -0.487],\n",
       "       [-0.21 , -0.474, -0.479, -0.154],\n",
       "       [-0.13 , -0.474, -0.479, -0.488],\n",
       "       [-0.13 ,  0.395,  2.043, -0.2  ],\n",
       "       [ 1.228, -0.474, -0.479,  0.02 ]], dtype=float32)"
      ]
     },
     "execution_count": 38,
     "metadata": {},
     "output_type": "execute_result"
    }
   ],
   "source": [
    "numeric_layer = tf.keras.layers.DenseFeatures(numeric_columns)\n",
    "numeric_layer(example_batch).numpy()"
   ]
  },
  {
   "cell_type": "markdown",
   "metadata": {},
   "source": [
    "여기서 사용되는 평균 기반 정규화는 각 열의 평균을 미리 알아야 합니다."
   ]
  },
  {
   "cell_type": "markdown",
   "metadata": {},
   "source": [
    "***\n",
    "\n",
    "### 3.2 Categorical data (범주형 데이터)\n",
    "\n",
    "CSV 데이터의 일부 컬럼은 범주형 컬럼입니다.\n",
    "\n",
    "즉, 내용은 제한된 옵션들 중 하나여야 합니다.\n",
    "\n",
    "```tf.feature_column``` API를 사용하여 각 범주형 컬럼에 대해 ```tf.feature_column.indicator_column```을 사용하여 collection을 만듭니다.\n",
    "\n",
    "https://www.tensorflow.org/api_docs/python/tf/feature_column/categorical_column_with_vocabulary_list\n",
    "\n",
    "https://www.tensorflow.org/api_docs/python/tf/feature_column/indicator_column"
   ]
  },
  {
   "cell_type": "code",
   "execution_count": 40,
   "metadata": {},
   "outputs": [],
   "source": [
    "CATEGORIES = {\n",
    "    'sex': ['male', 'female'],\n",
    "    'class' : ['First', 'Second', 'Third'],\n",
    "    'deck' : ['A', 'B', 'C', 'D', 'E', 'F', 'G', 'H', 'I', 'J'],\n",
    "    'embark_town' : ['Cherbourg', 'Southhampton', 'Queenstown'],\n",
    "    'alone' : ['y', 'n']\n",
    "}"
   ]
  },
  {
   "cell_type": "code",
   "execution_count": 41,
   "metadata": {},
   "outputs": [],
   "source": [
    "categorical_columns = []\n",
    "\n",
    "for feature, vocab in CATEGORIES.items():\n",
    "    cat_col = tf.feature_column.categorical_column_with_vocabulary_list(\n",
    "        key=feature, vocabulary_list=vocab)\n",
    "    \n",
    "    categorical_columns.append(tf.feature_column.indicator_column(cat_col))"
   ]
  },
  {
   "cell_type": "code",
   "execution_count": 97,
   "metadata": {},
   "outputs": [
    {
     "data": {
      "text/plain": [
       "VocabularyListCategoricalColumn(key='alone', vocabulary_list=('y', 'n'), dtype=tf.string, default_value=-1, num_oov_buckets=0)"
      ]
     },
     "execution_count": 97,
     "metadata": {},
     "output_type": "execute_result"
    }
   ],
   "source": [
    "cat_col"
   ]
  },
  {
   "cell_type": "code",
   "execution_count": 42,
   "metadata": {},
   "outputs": [
    {
     "data": {
      "text/plain": [
       "[IndicatorColumn(categorical_column=VocabularyListCategoricalColumn(key='sex', vocabulary_list=('male', 'female'), dtype=tf.string, default_value=-1, num_oov_buckets=0)),\n",
       " IndicatorColumn(categorical_column=VocabularyListCategoricalColumn(key='class', vocabulary_list=('First', 'Second', 'Third'), dtype=tf.string, default_value=-1, num_oov_buckets=0)),\n",
       " IndicatorColumn(categorical_column=VocabularyListCategoricalColumn(key='deck', vocabulary_list=('A', 'B', 'C', 'D', 'E', 'F', 'G', 'H', 'I', 'J'), dtype=tf.string, default_value=-1, num_oov_buckets=0)),\n",
       " IndicatorColumn(categorical_column=VocabularyListCategoricalColumn(key='embark_town', vocabulary_list=('Cherbourg', 'Southhampton', 'Queenstown'), dtype=tf.string, default_value=-1, num_oov_buckets=0)),\n",
       " IndicatorColumn(categorical_column=VocabularyListCategoricalColumn(key='alone', vocabulary_list=('y', 'n'), dtype=tf.string, default_value=-1, num_oov_buckets=0))]"
      ]
     },
     "execution_count": 42,
     "metadata": {},
     "output_type": "execute_result"
    }
   ],
   "source": [
    "# See what you just created.\n",
    "categorical_columns"
   ]
  },
  {
   "cell_type": "code",
   "execution_count": 72,
   "metadata": {},
   "outputs": [
    {
     "name": "stdout",
     "output_type": "stream",
     "text": [
      "\n",
      "OrderedDict([('sex',\n",
      "              <tf.Tensor: id=551, shape=(5,), dtype=string, numpy=array([b'male', b'male', b'male', b'male', b'male'], dtype=object)>),\n",
      "             ('class',\n",
      "              <tf.Tensor: id=547, shape=(5,), dtype=string, numpy=array([b'Third', b'Second', b'Third', b'Third', b'First'], dtype=object)>),\n",
      "             ('deck',\n",
      "              <tf.Tensor: id=548, shape=(5,), dtype=string, numpy=\n",
      "array([b'unknown', b'unknown', b'unknown', b'unknown', b'unknown'],\n",
      "      dtype=object)>),\n",
      "             ('embark_town',\n",
      "              <tf.Tensor: id=549, shape=(5,), dtype=string, numpy=\n",
      "array([b'Southampton', b'Southampton', b'Queenstown', b'Southampton',\n",
      "       b'Southampton'], dtype=object)>),\n",
      "             ('alone',\n",
      "              <tf.Tensor: id=546, shape=(5,), dtype=string, numpy=array([b'y', b'y', b'y', b'n', b'y'], dtype=object)>),\n",
      "             ('numeric',\n",
      "              <tf.Tensor: id=550, shape=(5, 4), dtype=float32, numpy=\n",
      "array([[28.   ,  0.   ,  0.   ,  7.775],\n",
      "       [27.   ,  0.   ,  0.   , 26.   ],\n",
      "       [28.   ,  0.   ,  0.   ,  7.729],\n",
      "       [28.   ,  1.   ,  2.   , 23.45 ],\n",
      "       [45.   ,  0.   ,  0.   , 35.5  ]], dtype=float32)>)])\n",
      "[1. 0. 0. 0. 1. 0. 0. 0. 0. 0. 0. 0. 0. 0. 0. 0. 0. 0. 1. 0.]\n",
      "[1. 0. 0. 1. 0. 0. 0. 0. 0. 0. 0. 0. 0. 0. 0. 0. 0. 0. 1. 0.]\n",
      "[1. 0. 0. 0. 1. 0. 0. 0. 0. 0. 0. 0. 0. 0. 0. 0. 0. 1. 1. 0.]\n",
      "[0. 1. 0. 0. 1. 0. 0. 0. 0. 0. 0. 0. 0. 0. 0. 0. 0. 0. 1. 0.]\n",
      "[1. 0. 1. 0. 0. 0. 0. 0. 0. 0. 0. 0. 0. 0. 0. 0. 0. 0. 1. 0.]\n"
     ]
    }
   ],
   "source": [
    "categorical_layer = tf.keras.layers.DenseFeatures(categorical_columns)\n",
    "print()\n",
    "pprint.pprint(example_batch)\n",
    "print(categorical_layer(example_batch).numpy()[0])\n",
    "print(categorical_layer(example_batch).numpy()[1])\n",
    "print(categorical_layer(example_batch).numpy()[2])\n",
    "print(categorical_layer(example_batch).numpy()[3])\n",
    "print(categorical_layer(example_batch).numpy()[4])"
   ]
  },
  {
   "cell_type": "markdown",
   "metadata": {},
   "source": [
    "이것은 나중에 모델을 작성할 때 data processing input의 일부가 됩니다."
   ]
  },
  {
   "cell_type": "markdown",
   "metadata": {},
   "source": [
    "***\n",
    "\n",
    "### Combined preprocessing layer (결합된 전처리 레이어)\n",
    "\n",
    "Add the two feature column collections and pass them to a tf.keras.layers.DenseFeatures to create an input layer that will extract and preprocess both input types:\n",
    "\n",
    "결합된 사전 처리 계층입니다.\n",
    "\n",
    "두개의 feature column collections을 추가하고 ```tf.ceras.layer.DenseFeatures```에 전달하여 두 입력 유형을 모두 추출하고 전처리할 input layer를 만듭니다."
   ]
  },
  {
   "cell_type": "code",
   "execution_count": 44,
   "metadata": {},
   "outputs": [],
   "source": [
    "preprocessing_layer = tf.keras.layers.DenseFeatures(categorical_columns+numeric_columns)"
   ]
  },
  {
   "cell_type": "code",
   "execution_count": 45,
   "metadata": {},
   "outputs": [
    {
     "name": "stdout",
     "output_type": "stream",
     "text": [
      "[ 1.     0.     0.     0.     1.     0.     0.     0.     0.     0.\n",
      "  0.     0.     0.     0.     0.     0.     0.     0.    -0.13  -0.474\n",
      " -0.479 -0.487  1.     0.   ]\n"
     ]
    }
   ],
   "source": [
    "print(preprocessing_layer(example_batch).numpy()[0])"
   ]
  },
  {
   "cell_type": "markdown",
   "metadata": {},
   "source": [
    "***\n",
    "\n",
    "## 4. Build the model\n",
    "\n",
    "Build a tf.keras.Sequential, starting with the preprocessing_layer.\n",
    "\n",
    "preprocessing_layer부터 시작하여 ```tf.keras.Sequential```를 만듭니다."
   ]
  },
  {
   "cell_type": "code",
   "execution_count": 46,
   "metadata": {},
   "outputs": [],
   "source": [
    "model = tf.keras.Sequential([\n",
    "    preprocessing_layer,\n",
    "    tf.keras.layers.Dense(128, activation='relu'),\n",
    "    tf.keras.layers.Dense(128, activation='relu'),\n",
    "    tf.keras.layers.Dense(1),\n",
    "])\n",
    "\n",
    "model.compile(\n",
    "    loss=tf.keras.losses.BinaryCrossentropy(from_logits=True),\n",
    "    optimizer='adam',\n",
    "    metrics=['accuracy'])"
   ]
  },
  {
   "cell_type": "markdown",
   "metadata": {},
   "source": [
    "### Train, evaluate, and predict\n",
    "\n",
    "이제 모델을 인스턴스화하고 교육할 수 있습니다.\n",
    "\n",
    "(Now the model can be instantiated and trained.)"
   ]
  },
  {
   "cell_type": "code",
   "execution_count": 47,
   "metadata": {},
   "outputs": [],
   "source": [
    "train_data = packed_train_data.shuffle(500)\n",
    "test_data = packed_test_data"
   ]
  },
  {
   "cell_type": "code",
   "execution_count": 48,
   "metadata": {},
   "outputs": [
    {
     "name": "stdout",
     "output_type": "stream",
     "text": [
      "Epoch 1/20\n",
      "126/126 [==============================] - 2s 16ms/step - loss: 0.5266 - accuracy: 0.7065\n",
      "Epoch 2/20\n",
      "126/126 [==============================] - 0s 3ms/step - loss: 0.4291 - accuracy: 0.8182\n",
      "Epoch 3/20\n",
      "126/126 [==============================] - 0s 3ms/step - loss: 0.4012 - accuracy: 0.8246\n",
      "Epoch 4/20\n",
      "126/126 [==============================] - 0s 3ms/step - loss: 0.3827 - accuracy: 0.8325\n",
      "Epoch 5/20\n",
      "126/126 [==============================] - 0s 3ms/step - loss: 0.3756 - accuracy: 0.8389\n",
      "Epoch 6/20\n",
      "126/126 [==============================] - 0s 3ms/step - loss: 0.3656 - accuracy: 0.8405\n",
      "Epoch 7/20\n",
      "126/126 [==============================] - 0s 3ms/step - loss: 0.3648 - accuracy: 0.8453\n",
      "Epoch 8/20\n",
      "126/126 [==============================] - 0s 3ms/step - loss: 0.3513 - accuracy: 0.8421\n",
      "Epoch 9/20\n",
      "126/126 [==============================] - 0s 4ms/step - loss: 0.3444 - accuracy: 0.8469\n",
      "Epoch 10/20\n",
      "126/126 [==============================] - 0s 3ms/step - loss: 0.3410 - accuracy: 0.8533\n",
      "Epoch 11/20\n",
      "126/126 [==============================] - 0s 3ms/step - loss: 0.3393 - accuracy: 0.8485\n",
      "Epoch 12/20\n",
      "126/126 [==============================] - 0s 3ms/step - loss: 0.3272 - accuracy: 0.8469\n",
      "Epoch 13/20\n",
      "126/126 [==============================] - 0s 3ms/step - loss: 0.3262 - accuracy: 0.8533\n",
      "Epoch 14/20\n",
      "126/126 [==============================] - 0s 3ms/step - loss: 0.3265 - accuracy: 0.8612\n",
      "Epoch 15/20\n",
      "126/126 [==============================] - 0s 3ms/step - loss: 0.3182 - accuracy: 0.8644\n",
      "Epoch 16/20\n",
      "126/126 [==============================] - 0s 3ms/step - loss: 0.3166 - accuracy: 0.8660\n",
      "Epoch 17/20\n",
      "126/126 [==============================] - 0s 3ms/step - loss: 0.3115 - accuracy: 0.8628\n",
      "Epoch 18/20\n",
      "126/126 [==============================] - 0s 3ms/step - loss: 0.3142 - accuracy: 0.8676\n",
      "Epoch 19/20\n",
      "126/126 [==============================] - 0s 3ms/step - loss: 0.3048 - accuracy: 0.8660\n",
      "Epoch 20/20\n",
      "126/126 [==============================] - 0s 3ms/step - loss: 0.3103 - accuracy: 0.8660\n"
     ]
    },
    {
     "data": {
      "text/plain": [
       "<tensorflow.python.keras.callbacks.History at 0x64bcfa8d0>"
      ]
     },
     "execution_count": 48,
     "metadata": {},
     "output_type": "execute_result"
    }
   ],
   "source": [
    "model.fit(train_data, epochs=20)"
   ]
  },
  {
   "cell_type": "markdown",
   "metadata": {},
   "source": [
    "***\n",
    "\n",
    "모델을 train한 후에는 test_data set에서 정확성(accuracy)을 확인할 수 있습니다."
   ]
  },
  {
   "cell_type": "code",
   "execution_count": 49,
   "metadata": {},
   "outputs": [
    {
     "name": "stdout",
     "output_type": "stream",
     "text": [
      "53/53 [==============================] - 1s 10ms/step - loss: 0.4447 - accuracy: 0.8409\n",
      "\n",
      "\n",
      "Test Loss 0.44470063512617686, Test Accuracy 0.8409090638160706\n"
     ]
    }
   ],
   "source": [
    "test_loss, test_accuracy = model.evaluate(test_data)\n",
    "\n",
    "print('\\n\\nTest Loss {}, Test Accuracy {}'.format(test_loss, test_accuracy))"
   ]
  },
  {
   "cell_type": "markdown",
   "metadata": {},
   "source": [
    "***\n",
    "\n",
    "```tf.keras.Model.predict```을 사용하여 batch 또는 a dataset of batches에 있는 레이블을 추정할 수 있습니다."
   ]
  },
  {
   "cell_type": "code",
   "execution_count": 50,
   "metadata": {},
   "outputs": [
    {
     "name": "stdout",
     "output_type": "stream",
     "text": [
      "Predicted survival: -428.42%  | Actual outcome:  SURVIVED\n",
      "Predicted survival: -279.85%  | Actual outcome:  DIED\n",
      "Predicted survival: 98.98%  | Actual outcome:  SURVIVED\n",
      "Predicted survival: -247.75%  | Actual outcome:  DIED\n",
      "Predicted survival: -220.88%  | Actual outcome:  DIED\n"
     ]
    }
   ],
   "source": [
    "predictions = model.predict(test_data)\n",
    "\n",
    "# Show some results\n",
    "for prediction, survived in zip(predictions[:10], list(test_data)[0][1][:10]):\n",
    "    print(\"Predicted survival: {:.2%}\".format(prediction[0]),\n",
    "        \" | Actual outcome: \",\n",
    "        (\"SURVIVED\" if bool(survived) else \"DIED\"))\n"
   ]
  }
 ],
 "metadata": {
  "kernelspec": {
   "display_name": "Python 3",
   "language": "python",
   "name": "python3"
  },
  "language_info": {
   "codemirror_mode": {
    "name": "ipython",
    "version": 3
   },
   "file_extension": ".py",
   "mimetype": "text/x-python",
   "name": "python",
   "nbconvert_exporter": "python",
   "pygments_lexer": "ipython3",
   "version": "3.7.4"
  }
 },
 "nbformat": 4,
 "nbformat_minor": 4
}
